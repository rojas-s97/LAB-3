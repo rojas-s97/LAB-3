{
  "nbformat": 4,
  "nbformat_minor": 0,
  "metadata": {
    "colab": {
      "provenance": [],
      "mount_file_id": "1c0VzeMAY5cFNYhV5ZYoQPd5IltKXsd9E",
      "authorship_tag": "ABX9TyOjxjcBioHB8jzp8m2auFMy",
      "include_colab_link": true
    },
    "kernelspec": {
      "name": "python3",
      "display_name": "Python 3"
    },
    "language_info": {
      "name": "python"
    }
  },
  "cells": [
    {
      "cell_type": "markdown",
      "metadata": {
        "id": "view-in-github",
        "colab_type": "text"
      },
      "source": [
        "<a href=\"https://colab.research.google.com/github/rojas-s97/LAB-3/blob/main/labrojassalvador.ipynb\" target=\"_parent\"><img src=\"https://colab.research.google.com/assets/colab-badge.svg\" alt=\"Open In Colab\"/></a>"
      ]
    },
    {
      "cell_type": "code",
      "source": [
        "import pandas as pd\n",
        "\n",
        "import matplotlib.pyplot as plt\n",
        "\n",
        "path = \"/content/drive/MyDrive/CONJUNTO DE DATOS/bueno0-atenciones_abogadas_de_las_mujeres - atenciones_abogadas_de_las_mujeres.csv\"\n",
        "\n",
        "df =pd.read_csv(path)\n",
        "\n",
        "df_filtrado = df.query(\"usuaria_edad <=160\")\n",
        "\n",
        "print(df_filtrado[\"usuaria_edad\"])\n",
        "\n",
        "plt.boxplot(df_filtrado[\"usuaria_edad\"])\n",
        "\n",
        "plt.show()"
      ],
      "metadata": {
        "colab": {
          "base_uri": "https://localhost:8080/",
          "height": 673
        },
        "id": "Hd-7QlizGXEb",
        "outputId": "21194392-537d-4ecf-dc0c-9af787124da0"
      },
      "execution_count": 2,
      "outputs": [
        {
          "output_type": "stream",
          "name": "stderr",
          "text": [
            "<ipython-input-2-4c1f8d145085>:7: DtypeWarning: Columns (14,19,20,21) have mixed types. Specify dtype option on import or set low_memory=False.\n",
            "  df =pd.read_csv(path)\n"
          ]
        },
        {
          "output_type": "stream",
          "name": "stdout",
          "text": [
            "0         33.0\n",
            "1         26.0\n",
            "2         25.0\n",
            "3         55.0\n",
            "4         33.0\n",
            "          ... \n",
            "121990    50.0\n",
            "121991    31.0\n",
            "121992    20.0\n",
            "121993    26.0\n",
            "121994    31.0\n",
            "Name: usuaria_edad, Length: 119978, dtype: float64\n"
          ]
        },
        {
          "output_type": "display_data",
          "data": {
            "text/plain": [
              "<Figure size 640x480 with 1 Axes>"
            ],
            "image/png": "[encoded data removed]"
          },
          "metadata": {}
        }
      ]
    }
  ]
}